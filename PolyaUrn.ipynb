{
  "nbformat": 4,
  "nbformat_minor": 0,
  "metadata": {
    "colab": {
      "provenance": [],
      "toc_visible": true,
      "authorship_tag": "ABX9TyPyZE0nZ6TAcI1kpZsTkJ57"
    },
    "kernelspec": {
      "name": "python3",
      "display_name": "Python 3"
    },
    "language_info": {
      "name": "python"
    }
  },
  "cells": [
    {
      "cell_type": "markdown",
      "source": [
        "# Polya Urn Model\n",
        "\n",
        "The beta distribution specified by $\\boldsymbol{\\alpha} = (\\alpha, \\beta)$ can be illustrated by the Polya urn model. Imagine an urn which contains balls of two different colours. Initially the urn contains $\\alpha_1 = \\alpha$ balls of colour 1, $\\alpha_2 = \\beta$ balls of colour 2.\n",
        "\n",
        "Now, each time a ball is drawn from the urn and replaced, but also another ball of the same colour is added, until the urn contains $N$ balls. Since the colour drawn is random, the final number of balls of each colour is a random variable. However, it is influenced by the initial proportion of balls. If initially there are only balls of one colour, then the outcome is determined, because then the urn will continue to contain only balls of one colour. If there are disproportionally more balls of one colour, we would expect there also being more balls of that colour in the final set, since it is more likely that this colour is drawn and then it becomes even more likely, since a ball of that colour is added. This is known as rich-get-richer. However, this is the expectation. Other proportions are also possible, just less likely.\n",
        "\n",
        "Change the value of $\\boldsymbol{\\alpha} = (\\alpha, \\beta)$ and see how the histogram changes."
      ],
      "metadata": {
        "id": "R6-8COBm1cFI"
      }
    },
    {
      "cell_type": "code",
      "source": [
        "import numpy as np\n",
        "import matplotlib.pyplot as plt\n",
        "from copy import copy\n",
        "\n",
        "def polya(alpha, N):\n",
        "    # Initialise the urn with alpha which specifies the\n",
        "    # number of balls of two different colours.\n",
        "    y = copy(alpha)\n",
        "    for n in range(1 , (N - sum(alpha))):\n",
        "\t# Calculate the proportions of each colour.\n",
        "        p = np.divide(y, float(sum(y)))\n",
        "\t# Choose a random index according to the proportions.\n",
        "        idx = np.random.choice(len(p), None, True, p)\n",
        "\t# Add a ball of the colour indicated by the index.\n",
        "        y[idx] = y[idx] + 1\n",
        "    return y"
      ],
      "metadata": {
        "id": "tzYqxVGM68e6"
      },
      "execution_count": 2,
      "outputs": []
    },
    {
      "cell_type": "code",
      "execution_count": 5,
      "metadata": {
        "colab": {
          "base_uri": "https://localhost:8080/",
          "height": 430
        },
        "id": "QDawTFH705wh",
        "outputId": "0e527d21-fa27-4fdf-f7b6-d9710fc0bca5"
      },
      "outputs": [
        {
          "output_type": "display_data",
          "data": {
            "text/plain": [
              "<Figure size 640x480 with 1 Axes>"
            ],
            "image/png": "[encoded data removed]"
          },
          "metadata": {}
        }
      ],
      "source": [
        "# Final number of balls:\n",
        "N = 100\n",
        "# Number of experiments:\n",
        "I = 10000\n",
        "\n",
        "# Initialising alpha.\n",
        "alpha = [2, 4]\n",
        "# First experiment:\n",
        "Y= polya(alpha,N)\n",
        "\n",
        "# Further experiments:\n",
        "for i in range(1,I):\n",
        "    y = polya(alpha,N)\n",
        "    Y = np.vstack((Y,y))\n",
        "\n",
        "# Plot histogram of experiment outcomes.\n",
        "plt.hist(Y[:,0], bins = range(1,101) -0.5 * np.ones(100))\n",
        "plt.show()"
      ]
    }
  ]
}