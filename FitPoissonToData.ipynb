{
 "cells": [
  {
   "cell_type": "markdown",
   "metadata": {
    "id": "qf4CoVSEMgHG"
   },
   "source": [
    "# Fitting the Poisson Distribution\n",
    "\n",
    "## Poisson Distribution\n",
    "\n",
    "The Poisson distribution $m \\sim \\textrm{Po}(\\lambda)$ gives the probability of $m$ events occurring in a given time interval. The probability mass function is\n",
    "\\begin{equation}\n",
    "\\textrm{Po}(m|\\lambda) = \\frac{\\lambda^m \\exp(-\\lambda)} {m!}.\n",
    "\\end{equation}\n",
    "\n",
    "Both, its expectation and variance are equal to $\\lambda$,\n",
    "\\begin{equation}\n",
    "\\mathbb{E}[m] = \\textrm{var}[m] = \\lambda.\n",
    "\\end{equation}\n",
    "\n",
    "A dataset of whole numbers $\\mathcal{D} = \\{x_1, \\ldots, x_N\\}$ describes how often an event occurred in $N$ time intervals. \n",
    "\n",
    "The Maximum-Likelihood Estimate for $\\lambda$ is\n",
    "\\begin{equation}\n",
    "\\lambda_\\textrm{ML} = \\frac{1}{N} \\sum_{n=1}^N x_n.\n",
    "\\end{equation}\n",
    "It is derived maximising the logarithm of the likelihood\n",
    "\\begin{equation}\n",
    "p(\\mathcal{D}| \\lambda) = p(x_1| \\lambda) \\ldots p(x_N| \\lambda) = \\prod_{n=1}^N \\frac{1}{x_n!} \\lambda^{x_n} \\exp(-\\lambda).\n",
    "\\end{equation}\n",
    "\n",
    "Use numerical optimization to find the Maximum-Likelihood Estimate iteratively."
   ]
  },
  {
   "cell_type": "code",
   "execution_count": 4,
   "metadata": {
    "colab": {
     "base_uri": "https://localhost:8080/"
    },
    "id": "4v8cjVy5KJpa",
    "outputId": "0c62cebd-14cf-4c75-9ccc-1bd3e92f1cb0"
   },
   "outputs": [
    {
     "name": "stdout",
     "output_type": "stream",
     "text": [
      "10.0\n",
      "Optimization terminated successfully.\n",
      "         Current function value: -91.180957\n",
      "         Iterations: 17\n",
      "         Function evaluations: 34\n",
      "10.000036621093752\n",
      "Optimization terminated successfully.\n",
      "         Current function value: -91.180957\n",
      "         Iterations: 13\n",
      "         Function evaluations: 26\n",
      "10.000119066962952\n"
     ]
    }
   ],
   "source": [
    "import scipy.optimize\n",
    "import numpy as np\n",
    "\n",
    "# Define a function for the log likelihood\n",
    "def loglik(lam,x):\n",
    "  return np.sum(x)*np.log(lam) - len(x) * lam\n",
    "\n",
    "# Define the dataset\n",
    "x = [13,9,11,4,24,7,2]\n",
    "\n",
    "# Calculate the Maximum-Likelihood Estimate using the formula\n",
    "mle = sum(x)/len(x)\n",
    "print(mle)\n",
    "\n",
    "init_lam = 7\n",
    "\n",
    "# Naive optimization which might result in the Maximum-Likelihood \n",
    "# Estimate being negative.\n",
    "lam, = scipy.optimize.fmin(lambda y: - loglik(y,x), init_lam)\n",
    "print(lam)\n",
    "\n",
    "# Improved optimization by letting lam = exp(y) in the objective\n",
    "# function, since the the exponential is always positive.\n",
    "loglam, = scipy.optimize.fmin(lambda y:- loglik(np.exp(y),x), \n",
    "                              np.log(init_lam))\n",
    "print(np.exp(loglam))"
   ]
  },
  {
   "cell_type": "code",
   "execution_count": null,
   "metadata": {},
   "outputs": [],
   "source": []
  }
 ],
 "metadata": {
  "colab": {
   "name": "Ex1Q2.ipynb",
   "provenance": [],
   "toc_visible": true
  },
  "kernelspec": {
   "display_name": "Python 3 (ipykernel)",
   "language": "python",
   "name": "python3"
  },
  "language_info": {
   "codemirror_mode": {
    "name": "ipython",
    "version": 3
   },
   "file_extension": ".py",
   "mimetype": "text/x-python",
   "name": "python",
   "nbconvert_exporter": "python",
   "pygments_lexer": "ipython3",
   "version": "3.10.14"
  }
 },
 "nbformat": 4,
 "nbformat_minor": 4
}
