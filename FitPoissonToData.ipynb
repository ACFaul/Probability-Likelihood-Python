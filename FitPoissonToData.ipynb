{
  "nbformat": 4,
  "nbformat_minor": 0,
  "metadata": {
    "colab": {
      "name": "Ex1Q2.ipynb",
      "provenance": [],
      "toc_visible": true
    },
    "kernelspec": {
      "name": "python3",
      "display_name": "Python 3"
    },
    "language_info": {
      "name": "python"
    }
  },
  "cells": [
    {
      "cell_type": "code",
      "metadata": {
        "colab": {
          "base_uri": "https://localhost:8080/"
        },
        "id": "4v8cjVy5KJpa",
        "outputId": "0c62cebd-14cf-4c75-9ccc-1bd3e92f1cb0"
      },
      "source": [
        "import scipy.optimize\n",
        "import numpy as np\n",
        "\n",
        "def loglik(lamda,x):\n",
        "  return np.sum(x)*np.log(lamda) - len(x) * lamda\n",
        "\n",
        "x = [3,2,8,1,5,0,8]\n",
        "init_lamda = 4\n",
        "\n",
        "# Naive optimization which might go below zero\n",
        "lamdahat, = scipy.optimize.fmin(lambda theta: - loglik(theta,x), init_lamda)\n",
        "print(lamdahat)\n",
        "\n",
        "# Careful optimization ensuring positivity\n",
        "loglamdahat, = scipy.optimize.fmin(lambda theta:- loglik(np.exp(theta),x), np.log(init_lamda))\n",
        "print(np.exp(loglamdahat))"
      ],
      "execution_count": 13,
      "outputs": [
        {
          "output_type": "stream",
          "name": "stdout",
          "text": [
            "Optimization terminated successfully.\n",
            "         Current function value: -9.448021\n",
            "         Iterations: 13\n",
            "         Function evaluations: 26\n",
            "3.8571289062499994\n",
            "Optimization terminated successfully.\n",
            "         Current function value: -9.448021\n",
            "         Iterations: 12\n",
            "         Function evaluations: 24\n",
            "3.8572124070085185\n"
          ]
        }
      ]
    },
    {
      "cell_type": "markdown",
      "metadata": {
        "id": "qf4CoVSEMgHG"
      },
      "source": [
        "# New section"
      ]
    }
  ]
}